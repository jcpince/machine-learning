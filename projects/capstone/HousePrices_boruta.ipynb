{
 "metadata": {
  "name": "",
  "signature": "sha256:e390170679a23e4d7964a08fcf05b89636e537733d47db93258f93e272fb999b"
 },
 "nbformat": 3,
 "nbformat_minor": 0,
 "worksheets": [
  {
   "cells": [
    {
     "cell_type": "code",
     "collapsed": false,
     "input": [
      "import pandas as pd\n",
      "import numpy as np\n",
      "import matplotlib\n",
      "\n",
      "import matplotlib.pyplot as plt\n",
      "\n",
      "from IPython import display\n",
      "\n",
      "%config InlineBackend.figure_format = 'retina' #set 'png' here when working on notebook\n",
      "%matplotlib inline\n",
      "\n",
      "random_state = 67"
     ],
     "language": "python",
     "metadata": {},
     "outputs": [],
     "prompt_number": 2
    },
    {
     "cell_type": "code",
     "collapsed": false,
     "input": [
      "# Load the training dataset\n",
      "train = pd.read_csv('input/train_full.csv').set_index('Id')\n",
      "submit = pd.read_csv('input/test_full.csv').set_index('Id')\n",
      "saleprices = train['SalePrice']\n",
      "whole_ds = pd.concat([train.drop('SalePrice', axis=1), submit])"
     ],
     "language": "python",
     "metadata": {},
     "outputs": [],
     "prompt_number": 29
    },
    {
     "cell_type": "code",
     "collapsed": false,
     "input": [
      "from HousePrices_utils import encode_by_SalePrice, add_sold_age\n",
      "\n",
      "# Encode the YrSold, MoSold into a single SoldMonths feature\n",
      "whole_ds = add_sold_age(whole_ds)\n",
      "\n",
      "#\u00a0Removing TotalBsmtSF since it is highly correlated to 1stFlrSF and is the sum of the\n",
      "# Basement areas\n",
      "_ = whole_ds.pop('TotalBsmtSF')\n",
      "\n",
      "# Encode the categorical features\n",
      "whole_enc = encode_by_SalePrice(whole_ds, train)"
     ],
     "language": "python",
     "metadata": {},
     "outputs": [],
     "prompt_number": 30
    },
    {
     "cell_type": "code",
     "collapsed": false,
     "input": [
      "from boruta import BorutaPy\n",
      "from sklearn.ensemble import RandomForestRegressor\n",
      "\n",
      "rf = RandomForestRegressor(n_jobs=-1, max_depth=7)\n",
      "# define Boruta feature selection method\n",
      "feat_selector = BorutaPy(rf, n_estimators='auto', verbose=0)\n",
      "feat_selector.fit(whole_enc.ix[train.index].as_matrix(), train.SalePrice.as_matrix())"
     ],
     "language": "python",
     "metadata": {},
     "outputs": [
      {
       "output_type": "stream",
       "stream": "stderr",
       "text": [
        "/usr/local/lib/python3.5/dist-packages/boruta/boruta_py.py:415: RuntimeWarning: invalid value encountered in greater\n",
        "  hits = np.where(cur_imp[0] > imp_sha_max)[0]\n",
        "/usr/local/lib/python3.5/dist-packages/boruta/boruta_py.py:415: RuntimeWarning: invalid value encountered in greater\n",
        "  hits = np.where(cur_imp[0] > imp_sha_max)[0]\n"
       ]
      },
      {
       "output_type": "stream",
       "stream": "stderr",
       "text": [
        "/usr/local/lib/python3.5/dist-packages/boruta/boruta_py.py:415: RuntimeWarning: invalid value encountered in greater\n",
        "  hits = np.where(cur_imp[0] > imp_sha_max)[0]\n",
        "/usr/local/lib/python3.5/dist-packages/boruta/boruta_py.py:415: RuntimeWarning: invalid value encountered in greater\n",
        "  hits = np.where(cur_imp[0] > imp_sha_max)[0]\n"
       ]
      },
      {
       "output_type": "stream",
       "stream": "stderr",
       "text": [
        "/usr/local/lib/python3.5/dist-packages/boruta/boruta_py.py:415: RuntimeWarning: invalid value encountered in greater\n",
        "  hits = np.where(cur_imp[0] > imp_sha_max)[0]\n",
        "/usr/local/lib/python3.5/dist-packages/boruta/boruta_py.py:415: RuntimeWarning: invalid value encountered in greater\n",
        "  hits = np.where(cur_imp[0] > imp_sha_max)[0]\n"
       ]
      },
      {
       "output_type": "stream",
       "stream": "stderr",
       "text": [
        "/usr/local/lib/python3.5/dist-packages/boruta/boruta_py.py:415: RuntimeWarning: invalid value encountered in greater\n",
        "  hits = np.where(cur_imp[0] > imp_sha_max)[0]\n",
        "/usr/local/lib/python3.5/dist-packages/boruta/boruta_py.py:415: RuntimeWarning: invalid value encountered in greater\n",
        "  hits = np.where(cur_imp[0] > imp_sha_max)[0]\n"
       ]
      },
      {
       "output_type": "stream",
       "stream": "stderr",
       "text": [
        "/usr/local/lib/python3.5/dist-packages/boruta/boruta_py.py:415: RuntimeWarning: invalid value encountered in greater\n",
        "  hits = np.where(cur_imp[0] > imp_sha_max)[0]\n",
        "/usr/local/lib/python3.5/dist-packages/boruta/boruta_py.py:415: RuntimeWarning: invalid value encountered in greater\n",
        "  hits = np.where(cur_imp[0] > imp_sha_max)[0]\n"
       ]
      },
      {
       "output_type": "stream",
       "stream": "stderr",
       "text": [
        "/usr/local/lib/python3.5/dist-packages/boruta/boruta_py.py:415: RuntimeWarning: invalid value encountered in greater\n",
        "  hits = np.where(cur_imp[0] > imp_sha_max)[0]\n",
        "/usr/local/lib/python3.5/dist-packages/boruta/boruta_py.py:415: RuntimeWarning: invalid value encountered in greater\n",
        "  hits = np.where(cur_imp[0] > imp_sha_max)[0]\n"
       ]
      },
      {
       "output_type": "stream",
       "stream": "stderr",
       "text": [
        "/usr/local/lib/python3.5/dist-packages/boruta/boruta_py.py:415: RuntimeWarning: invalid value encountered in greater\n",
        "  hits = np.where(cur_imp[0] > imp_sha_max)[0]\n",
        "/usr/local/lib/python3.5/dist-packages/boruta/boruta_py.py:415: RuntimeWarning: invalid value encountered in greater\n",
        "  hits = np.where(cur_imp[0] > imp_sha_max)[0]\n"
       ]
      },
      {
       "output_type": "stream",
       "stream": "stderr",
       "text": [
        "/usr/local/lib/python3.5/dist-packages/boruta/boruta_py.py:415: RuntimeWarning: invalid value encountered in greater\n",
        "  hits = np.where(cur_imp[0] > imp_sha_max)[0]\n",
        "/usr/local/lib/python3.5/dist-packages/boruta/boruta_py.py:415: RuntimeWarning: invalid value encountered in greater\n",
        "  hits = np.where(cur_imp[0] > imp_sha_max)[0]\n"
       ]
      },
      {
       "output_type": "stream",
       "stream": "stderr",
       "text": [
        "/usr/local/lib/python3.5/dist-packages/boruta/boruta_py.py:415: RuntimeWarning: invalid value encountered in greater\n",
        "  hits = np.where(cur_imp[0] > imp_sha_max)[0]\n",
        "/usr/local/lib/python3.5/dist-packages/boruta/boruta_py.py:415: RuntimeWarning: invalid value encountered in greater\n",
        "  hits = np.where(cur_imp[0] > imp_sha_max)[0]\n"
       ]
      },
      {
       "output_type": "stream",
       "stream": "stderr",
       "text": [
        "/usr/local/lib/python3.5/dist-packages/boruta/boruta_py.py:415: RuntimeWarning: invalid value encountered in greater\n",
        "  hits = np.where(cur_imp[0] > imp_sha_max)[0]\n",
        "/usr/local/lib/python3.5/dist-packages/boruta/boruta_py.py:415: RuntimeWarning: invalid value encountered in greater\n",
        "  hits = np.where(cur_imp[0] > imp_sha_max)[0]\n"
       ]
      },
      {
       "output_type": "stream",
       "stream": "stderr",
       "text": [
        "/usr/local/lib/python3.5/dist-packages/boruta/boruta_py.py:415: RuntimeWarning: invalid value encountered in greater\n",
        "  hits = np.where(cur_imp[0] > imp_sha_max)[0]\n",
        "/usr/local/lib/python3.5/dist-packages/boruta/boruta_py.py:415: RuntimeWarning: invalid value encountered in greater\n",
        "  hits = np.where(cur_imp[0] > imp_sha_max)[0]\n"
       ]
      },
      {
       "output_type": "stream",
       "stream": "stderr",
       "text": [
        "/usr/local/lib/python3.5/dist-packages/boruta/boruta_py.py:415: RuntimeWarning: invalid value encountered in greater\n",
        "  hits = np.where(cur_imp[0] > imp_sha_max)[0]\n",
        "/usr/local/lib/python3.5/dist-packages/boruta/boruta_py.py:415: RuntimeWarning: invalid value encountered in greater\n",
        "  hits = np.where(cur_imp[0] > imp_sha_max)[0]\n"
       ]
      },
      {
       "output_type": "stream",
       "stream": "stderr",
       "text": [
        "/usr/local/lib/python3.5/dist-packages/boruta/boruta_py.py:415: RuntimeWarning: invalid value encountered in greater\n",
        "  hits = np.where(cur_imp[0] > imp_sha_max)[0]\n",
        "/usr/local/lib/python3.5/dist-packages/boruta/boruta_py.py:415: RuntimeWarning: invalid value encountered in greater\n",
        "  hits = np.where(cur_imp[0] > imp_sha_max)[0]\n"
       ]
      },
      {
       "output_type": "stream",
       "stream": "stderr",
       "text": [
        "/usr/local/lib/python3.5/dist-packages/boruta/boruta_py.py:415: RuntimeWarning: invalid value encountered in greater\n",
        "  hits = np.where(cur_imp[0] > imp_sha_max)[0]\n",
        "/usr/local/lib/python3.5/dist-packages/boruta/boruta_py.py:415: RuntimeWarning: invalid value encountered in greater\n",
        "  hits = np.where(cur_imp[0] > imp_sha_max)[0]\n"
       ]
      },
      {
       "output_type": "stream",
       "stream": "stderr",
       "text": [
        "/usr/local/lib/python3.5/dist-packages/boruta/boruta_py.py:415: RuntimeWarning: invalid value encountered in greater\n",
        "  hits = np.where(cur_imp[0] > imp_sha_max)[0]\n",
        "/usr/local/lib/python3.5/dist-packages/boruta/boruta_py.py:415: RuntimeWarning: invalid value encountered in greater\n",
        "  hits = np.where(cur_imp[0] > imp_sha_max)[0]\n"
       ]
      },
      {
       "output_type": "stream",
       "stream": "stderr",
       "text": [
        "/usr/local/lib/python3.5/dist-packages/boruta/boruta_py.py:415: RuntimeWarning: invalid value encountered in greater\n",
        "  hits = np.where(cur_imp[0] > imp_sha_max)[0]\n",
        "/usr/local/lib/python3.5/dist-packages/boruta/boruta_py.py:415: RuntimeWarning: invalid value encountered in greater\n",
        "  hits = np.where(cur_imp[0] > imp_sha_max)[0]\n"
       ]
      },
      {
       "output_type": "stream",
       "stream": "stderr",
       "text": [
        "/usr/local/lib/python3.5/dist-packages/boruta/boruta_py.py:415: RuntimeWarning: invalid value encountered in greater\n",
        "  hits = np.where(cur_imp[0] > imp_sha_max)[0]\n",
        "/usr/local/lib/python3.5/dist-packages/boruta/boruta_py.py:415: RuntimeWarning: invalid value encountered in greater\n",
        "  hits = np.where(cur_imp[0] > imp_sha_max)[0]\n"
       ]
      },
      {
       "output_type": "stream",
       "stream": "stderr",
       "text": [
        "/usr/local/lib/python3.5/dist-packages/boruta/boruta_py.py:415: RuntimeWarning: invalid value encountered in greater\n",
        "  hits = np.where(cur_imp[0] > imp_sha_max)[0]\n",
        "/usr/local/lib/python3.5/dist-packages/boruta/boruta_py.py:415: RuntimeWarning: invalid value encountered in greater\n",
        "  hits = np.where(cur_imp[0] > imp_sha_max)[0]\n"
       ]
      },
      {
       "output_type": "stream",
       "stream": "stderr",
       "text": [
        "/usr/local/lib/python3.5/dist-packages/boruta/boruta_py.py:415: RuntimeWarning: invalid value encountered in greater\n",
        "  hits = np.where(cur_imp[0] > imp_sha_max)[0]\n",
        "/usr/local/lib/python3.5/dist-packages/boruta/boruta_py.py:415: RuntimeWarning: invalid value encountered in greater\n",
        "  hits = np.where(cur_imp[0] > imp_sha_max)[0]\n"
       ]
      },
      {
       "output_type": "stream",
       "stream": "stderr",
       "text": [
        "/usr/local/lib/python3.5/dist-packages/boruta/boruta_py.py:415: RuntimeWarning: invalid value encountered in greater\n",
        "  hits = np.where(cur_imp[0] > imp_sha_max)[0]\n",
        "/usr/local/lib/python3.5/dist-packages/boruta/boruta_py.py:415: RuntimeWarning: invalid value encountered in greater\n",
        "  hits = np.where(cur_imp[0] > imp_sha_max)[0]\n"
       ]
      },
      {
       "output_type": "stream",
       "stream": "stderr",
       "text": [
        "/usr/local/lib/python3.5/dist-packages/boruta/boruta_py.py:415: RuntimeWarning: invalid value encountered in greater\n",
        "  hits = np.where(cur_imp[0] > imp_sha_max)[0]\n",
        "/usr/local/lib/python3.5/dist-packages/boruta/boruta_py.py:415: RuntimeWarning: invalid value encountered in greater\n",
        "  hits = np.where(cur_imp[0] > imp_sha_max)[0]\n"
       ]
      },
      {
       "output_type": "stream",
       "stream": "stderr",
       "text": [
        "/usr/local/lib/python3.5/dist-packages/boruta/boruta_py.py:415: RuntimeWarning: invalid value encountered in greater\n",
        "  hits = np.where(cur_imp[0] > imp_sha_max)[0]\n",
        "/usr/local/lib/python3.5/dist-packages/boruta/boruta_py.py:415: RuntimeWarning: invalid value encountered in greater\n",
        "  hits = np.where(cur_imp[0] > imp_sha_max)[0]\n"
       ]
      },
      {
       "output_type": "stream",
       "stream": "stderr",
       "text": [
        "/usr/local/lib/python3.5/dist-packages/boruta/boruta_py.py:415: RuntimeWarning: invalid value encountered in greater\n",
        "  hits = np.where(cur_imp[0] > imp_sha_max)[0]\n",
        "/usr/local/lib/python3.5/dist-packages/boruta/boruta_py.py:415: RuntimeWarning: invalid value encountered in greater\n",
        "  hits = np.where(cur_imp[0] > imp_sha_max)[0]\n"
       ]
      },
      {
       "output_type": "stream",
       "stream": "stderr",
       "text": [
        "/usr/local/lib/python3.5/dist-packages/boruta/boruta_py.py:415: RuntimeWarning: invalid value encountered in greater\n",
        "  hits = np.where(cur_imp[0] > imp_sha_max)[0]\n",
        "/usr/local/lib/python3.5/dist-packages/boruta/boruta_py.py:415: RuntimeWarning: invalid value encountered in greater\n",
        "  hits = np.where(cur_imp[0] > imp_sha_max)[0]\n"
       ]
      },
      {
       "output_type": "stream",
       "stream": "stderr",
       "text": [
        "/usr/local/lib/python3.5/dist-packages/boruta/boruta_py.py:415: RuntimeWarning: invalid value encountered in greater\n",
        "  hits = np.where(cur_imp[0] > imp_sha_max)[0]\n",
        "/usr/local/lib/python3.5/dist-packages/boruta/boruta_py.py:415: RuntimeWarning: invalid value encountered in greater\n",
        "  hits = np.where(cur_imp[0] > imp_sha_max)[0]\n"
       ]
      },
      {
       "output_type": "stream",
       "stream": "stderr",
       "text": [
        "/usr/local/lib/python3.5/dist-packages/boruta/boruta_py.py:415: RuntimeWarning: invalid value encountered in greater\n",
        "  hits = np.where(cur_imp[0] > imp_sha_max)[0]\n",
        "/usr/local/lib/python3.5/dist-packages/boruta/boruta_py.py:415: RuntimeWarning: invalid value encountered in greater\n",
        "  hits = np.where(cur_imp[0] > imp_sha_max)[0]\n"
       ]
      },
      {
       "output_type": "stream",
       "stream": "stderr",
       "text": [
        "/usr/local/lib/python3.5/dist-packages/boruta/boruta_py.py:415: RuntimeWarning: invalid value encountered in greater\n",
        "  hits = np.where(cur_imp[0] > imp_sha_max)[0]\n",
        "/usr/local/lib/python3.5/dist-packages/boruta/boruta_py.py:415: RuntimeWarning: invalid value encountered in greater\n",
        "  hits = np.where(cur_imp[0] > imp_sha_max)[0]\n"
       ]
      },
      {
       "output_type": "stream",
       "stream": "stderr",
       "text": [
        "/usr/local/lib/python3.5/dist-packages/boruta/boruta_py.py:415: RuntimeWarning: invalid value encountered in greater\n",
        "  hits = np.where(cur_imp[0] > imp_sha_max)[0]\n",
        "/usr/local/lib/python3.5/dist-packages/boruta/boruta_py.py:415: RuntimeWarning: invalid value encountered in greater\n",
        "  hits = np.where(cur_imp[0] > imp_sha_max)[0]\n"
       ]
      },
      {
       "output_type": "stream",
       "stream": "stderr",
       "text": [
        "/usr/local/lib/python3.5/dist-packages/boruta/boruta_py.py:415: RuntimeWarning: invalid value encountered in greater\n",
        "  hits = np.where(cur_imp[0] > imp_sha_max)[0]\n",
        "/usr/local/lib/python3.5/dist-packages/boruta/boruta_py.py:415: RuntimeWarning: invalid value encountered in greater\n",
        "  hits = np.where(cur_imp[0] > imp_sha_max)[0]\n"
       ]
      },
      {
       "output_type": "stream",
       "stream": "stderr",
       "text": [
        "/usr/local/lib/python3.5/dist-packages/boruta/boruta_py.py:415: RuntimeWarning: invalid value encountered in greater\n",
        "  hits = np.where(cur_imp[0] > imp_sha_max)[0]\n",
        "/usr/local/lib/python3.5/dist-packages/boruta/boruta_py.py:415: RuntimeWarning: invalid value encountered in greater\n",
        "  hits = np.where(cur_imp[0] > imp_sha_max)[0]\n"
       ]
      },
      {
       "output_type": "stream",
       "stream": "stderr",
       "text": [
        "/usr/local/lib/python3.5/dist-packages/boruta/boruta_py.py:415: RuntimeWarning: invalid value encountered in greater\n",
        "  hits = np.where(cur_imp[0] > imp_sha_max)[0]\n",
        "/usr/local/lib/python3.5/dist-packages/boruta/boruta_py.py:415: RuntimeWarning: invalid value encountered in greater\n",
        "  hits = np.where(cur_imp[0] > imp_sha_max)[0]\n"
       ]
      },
      {
       "output_type": "stream",
       "stream": "stderr",
       "text": [
        "/usr/local/lib/python3.5/dist-packages/boruta/boruta_py.py:415: RuntimeWarning: invalid value encountered in greater\n",
        "  hits = np.where(cur_imp[0] > imp_sha_max)[0]\n",
        "/usr/local/lib/python3.5/dist-packages/boruta/boruta_py.py:415: RuntimeWarning: invalid value encountered in greater\n",
        "  hits = np.where(cur_imp[0] > imp_sha_max)[0]\n"
       ]
      },
      {
       "output_type": "stream",
       "stream": "stderr",
       "text": [
        "/usr/local/lib/python3.5/dist-packages/boruta/boruta_py.py:415: RuntimeWarning: invalid value encountered in greater\n",
        "  hits = np.where(cur_imp[0] > imp_sha_max)[0]\n",
        "/usr/local/lib/python3.5/dist-packages/boruta/boruta_py.py:415: RuntimeWarning: invalid value encountered in greater\n",
        "  hits = np.where(cur_imp[0] > imp_sha_max)[0]\n"
       ]
      },
      {
       "output_type": "stream",
       "stream": "stderr",
       "text": [
        "/usr/local/lib/python3.5/dist-packages/boruta/boruta_py.py:415: RuntimeWarning: invalid value encountered in greater\n",
        "  hits = np.where(cur_imp[0] > imp_sha_max)[0]\n",
        "/usr/local/lib/python3.5/dist-packages/boruta/boruta_py.py:415: RuntimeWarning: invalid value encountered in greater\n",
        "  hits = np.where(cur_imp[0] > imp_sha_max)[0]\n"
       ]
      },
      {
       "output_type": "stream",
       "stream": "stderr",
       "text": [
        "/usr/local/lib/python3.5/dist-packages/boruta/boruta_py.py:415: RuntimeWarning: invalid value encountered in greater\n",
        "  hits = np.where(cur_imp[0] > imp_sha_max)[0]\n",
        "/usr/local/lib/python3.5/dist-packages/boruta/boruta_py.py:415: RuntimeWarning: invalid value encountered in greater\n",
        "  hits = np.where(cur_imp[0] > imp_sha_max)[0]\n"
       ]
      },
      {
       "output_type": "stream",
       "stream": "stderr",
       "text": [
        "/usr/local/lib/python3.5/dist-packages/boruta/boruta_py.py:415: RuntimeWarning: invalid value encountered in greater\n",
        "  hits = np.where(cur_imp[0] > imp_sha_max)[0]\n",
        "/usr/local/lib/python3.5/dist-packages/boruta/boruta_py.py:415: RuntimeWarning: invalid value encountered in greater\n",
        "  hits = np.where(cur_imp[0] > imp_sha_max)[0]\n"
       ]
      },
      {
       "output_type": "stream",
       "stream": "stderr",
       "text": [
        "/usr/local/lib/python3.5/dist-packages/boruta/boruta_py.py:415: RuntimeWarning: invalid value encountered in greater\n",
        "  hits = np.where(cur_imp[0] > imp_sha_max)[0]\n",
        "/usr/local/lib/python3.5/dist-packages/boruta/boruta_py.py:415: RuntimeWarning: invalid value encountered in greater\n",
        "  hits = np.where(cur_imp[0] > imp_sha_max)[0]\n"
       ]
      },
      {
       "output_type": "stream",
       "stream": "stderr",
       "text": [
        "/usr/local/lib/python3.5/dist-packages/boruta/boruta_py.py:415: RuntimeWarning: invalid value encountered in greater\n",
        "  hits = np.where(cur_imp[0] > imp_sha_max)[0]\n",
        "/usr/local/lib/python3.5/dist-packages/boruta/boruta_py.py:415: RuntimeWarning: invalid value encountered in greater\n",
        "  hits = np.where(cur_imp[0] > imp_sha_max)[0]\n"
       ]
      },
      {
       "output_type": "stream",
       "stream": "stderr",
       "text": [
        "/usr/local/lib/python3.5/dist-packages/boruta/boruta_py.py:415: RuntimeWarning: invalid value encountered in greater\n",
        "  hits = np.where(cur_imp[0] > imp_sha_max)[0]\n",
        "/usr/local/lib/python3.5/dist-packages/boruta/boruta_py.py:415: RuntimeWarning: invalid value encountered in greater\n",
        "  hits = np.where(cur_imp[0] > imp_sha_max)[0]\n"
       ]
      },
      {
       "output_type": "stream",
       "stream": "stderr",
       "text": [
        "/usr/local/lib/python3.5/dist-packages/boruta/boruta_py.py:415: RuntimeWarning: invalid value encountered in greater\n",
        "  hits = np.where(cur_imp[0] > imp_sha_max)[0]\n",
        "/usr/local/lib/python3.5/dist-packages/boruta/boruta_py.py:415: RuntimeWarning: invalid value encountered in greater\n",
        "  hits = np.where(cur_imp[0] > imp_sha_max)[0]\n"
       ]
      },
      {
       "output_type": "stream",
       "stream": "stderr",
       "text": [
        "/usr/local/lib/python3.5/dist-packages/boruta/boruta_py.py:415: RuntimeWarning: invalid value encountered in greater\n",
        "  hits = np.where(cur_imp[0] > imp_sha_max)[0]\n",
        "/usr/local/lib/python3.5/dist-packages/boruta/boruta_py.py:415: RuntimeWarning: invalid value encountered in greater\n",
        "  hits = np.where(cur_imp[0] > imp_sha_max)[0]\n"
       ]
      },
      {
       "output_type": "stream",
       "stream": "stderr",
       "text": [
        "/usr/local/lib/python3.5/dist-packages/boruta/boruta_py.py:415: RuntimeWarning: invalid value encountered in greater\n",
        "  hits = np.where(cur_imp[0] > imp_sha_max)[0]\n",
        "/usr/local/lib/python3.5/dist-packages/boruta/boruta_py.py:415: RuntimeWarning: invalid value encountered in greater\n",
        "  hits = np.where(cur_imp[0] > imp_sha_max)[0]\n"
       ]
      },
      {
       "output_type": "stream",
       "stream": "stderr",
       "text": [
        "/usr/local/lib/python3.5/dist-packages/boruta/boruta_py.py:415: RuntimeWarning: invalid value encountered in greater\n",
        "  hits = np.where(cur_imp[0] > imp_sha_max)[0]\n",
        "/usr/local/lib/python3.5/dist-packages/boruta/boruta_py.py:415: RuntimeWarning: invalid value encountered in greater\n",
        "  hits = np.where(cur_imp[0] > imp_sha_max)[0]\n"
       ]
      },
      {
       "output_type": "stream",
       "stream": "stderr",
       "text": [
        "/usr/local/lib/python3.5/dist-packages/boruta/boruta_py.py:415: RuntimeWarning: invalid value encountered in greater\n",
        "  hits = np.where(cur_imp[0] > imp_sha_max)[0]\n",
        "/usr/local/lib/python3.5/dist-packages/boruta/boruta_py.py:415: RuntimeWarning: invalid value encountered in greater\n",
        "  hits = np.where(cur_imp[0] > imp_sha_max)[0]\n"
       ]
      },
      {
       "output_type": "stream",
       "stream": "stderr",
       "text": [
        "/usr/local/lib/python3.5/dist-packages/boruta/boruta_py.py:415: RuntimeWarning: invalid value encountered in greater\n",
        "  hits = np.where(cur_imp[0] > imp_sha_max)[0]\n",
        "/usr/local/lib/python3.5/dist-packages/boruta/boruta_py.py:415: RuntimeWarning: invalid value encountered in greater\n",
        "  hits = np.where(cur_imp[0] > imp_sha_max)[0]\n"
       ]
      },
      {
       "output_type": "stream",
       "stream": "stderr",
       "text": [
        "/usr/local/lib/python3.5/dist-packages/boruta/boruta_py.py:415: RuntimeWarning: invalid value encountered in greater\n",
        "  hits = np.where(cur_imp[0] > imp_sha_max)[0]\n"
       ]
      },
      {
       "metadata": {},
       "output_type": "pyout",
       "prompt_number": 31,
       "text": [
        "<boruta.boruta_py.BorutaPy at 0x7f00f3af25f8>"
       ]
      }
     ],
     "prompt_number": 31
    },
    {
     "cell_type": "code",
     "collapsed": false,
     "input": [
      "selected = train.ix[:,feat_selector.support_]\n",
      "print(selected.columns)\n",
      "\n",
      "print(whole_enc.Electrical.describe())"
     ],
     "language": "python",
     "metadata": {},
     "outputs": [
      {
       "output_type": "stream",
       "stream": "stdout",
       "text": [
        "Index(['LotFrontage', 'LotArea', 'Neighborhood', 'OverallQual', 'YearBuilt',\n",
        "       'YearRemodAdd', 'BsmtQual', 'BsmtFinSF1', 'Electrical', '1stFlrSF',\n",
        "       'LowQualFinSF', 'KitchenAbvGr', 'KitchenQual', 'GarageFinish',\n",
        "       'GarageCars'],\n",
        "      dtype='object')\n",
        "count    2919.000000\n",
        "mean        3.891744\n",
        "std         0.389104\n",
        "min         0.000000\n",
        "25%         4.000000\n",
        "50%         4.000000\n",
        "75%         4.000000\n",
        "max         4.000000\n",
        "Name: Electrical, dtype: float64\n"
       ]
      }
     ],
     "prompt_number": 33
    },
    {
     "cell_type": "markdown",
     "metadata": {},
     "source": [
      "# Conclusion\n",
      "\n",
      "We retreive here the essential features necessary to estimating the sale price. The Electrical feature seems really odd here since it doesn't vary much in the dataset; this is confirmed with the quantiles which are 4 for the 25%, 50% and 75%...\n",
      "\n",
      "The rest of the attributes seem pertinent :-P"
     ]
    }
   ],
   "metadata": {}
  }
 ]
}