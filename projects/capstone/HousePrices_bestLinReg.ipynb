{
 "metadata": {
  "name": "",
  "signature": "sha256:d59fe059af51f01f4d1f0602ad16776bff281cc56dac7b77e07ca20ce1c1a010"
 },
 "nbformat": 3,
 "nbformat_minor": 0,
 "worksheets": [
  {
   "cells": [
    {
     "cell_type": "code",
     "collapsed": false,
     "input": [
      "import pandas as pd\n",
      "import numpy as np\n",
      "import matplotlib\n",
      "\n",
      "import matplotlib.pyplot as plt\n",
      "\n",
      "from IPython import display\n",
      "\n",
      "%config InlineBackend.figure_format = 'retina' #set 'png' here when working on notebook\n",
      "%matplotlib inline\n",
      "\n",
      "random_state = 67\n",
      "nfolds = 5\n",
      "\n",
      "# Load the training dataset\n",
      "train = pd.read_csv('input/train_full.csv').set_index('Id')\n",
      "submit = pd.read_csv('input/test_full.csv').set_index('Id')\n",
      "saleprices = np.log(train['SalePrice'])\n",
      "whole_ds = pd.concat([train.drop('SalePrice', axis=1), submit])\n",
      "\n",
      "from HousePrices_utils import encode_by_SalePrice, add_sold_age, train_model\n",
      "\n",
      "# Encode the YrSold, MoSold into a single SoldMonths feature\n",
      "whole_ds = add_sold_age(whole_ds)\n",
      "\n",
      "# Removing TotalBsmtSF since it is highly correlated to 1stFlrSF and is the sum of the\n",
      "# Basement areas\n",
      "_ = whole_ds.pop('TotalBsmtSF')\n",
      "\n",
      "# Encode the categorical features\n",
      "whole_enc = encode_by_SalePrice(whole_ds, train)\n",
      "\n",
      "train_X = whole_enc.ix[train.index]\n",
      "train_X = train_X[train_X.GrLivArea < 4000]\n",
      "saleprices = saleprices.ix[train_X.index]\n",
      "submit_X = whole_enc.ix[submit.index]"
     ],
     "language": "python",
     "metadata": {},
     "outputs": [],
     "prompt_number": 1
    },
    {
     "cell_type": "code",
     "collapsed": false,
     "input": [
      "from sklearn.linear_model import LinearRegression\n",
      "\n",
      "linreg = LinearRegression()\n",
      "rmse = np.sqrt(-cross_val_score(linreg, train_X, saleprices,\n",
      "                                   scoring=\"neg_mean_squared_error\", cv = 5))\n",
      "print(rmse.mean())"
     ],
     "language": "python",
     "metadata": {},
     "outputs": [
      {
       "output_type": "stream",
       "stream": "stdout",
       "text": [
        "0.117791552209\n"
       ]
      }
     ],
     "prompt_number": 4
    },
    {
     "cell_type": "code",
     "collapsed": false,
     "input": [
      "from threading import Lock\n",
      "\n",
      "thread_lock = Lock()\n",
      "\n",
      "l1_train_preds = pd.DataFrame(index=train_X.index)\n",
      "l1_submit_preds = pd.DataFrame(index=submit_X.index)\n",
      "\n",
      "clf = LinearRegression()\n",
      "\n",
      "transformation='log'\n",
      "train_model('SalePrice', clf, train_X, np.exp(saleprices), submit_X,\n",
      "    l1_train_preds, l1_submit_preds, 5, float('inf'),\n",
      "    thread_lock, random_state, transformation=transformation)"
     ],
     "language": "python",
     "metadata": {},
     "outputs": [
      {
       "metadata": {},
       "output_type": "pyout",
       "prompt_number": 14,
       "text": [
        "0.11816412264914404"
       ]
      }
     ],
     "prompt_number": 14
    },
    {
     "cell_type": "code",
     "collapsed": false,
     "input": [
      "l1_train_preds.to_csv(\"train_linreg.csv\", index=True)\n",
      "l1_submit_preds.to_csv(\"submission_linreg.csv\", index=True)"
     ],
     "language": "python",
     "metadata": {},
     "outputs": [],
     "prompt_number": 15
    },
    {
     "cell_type": "code",
     "collapsed": false,
     "input": [
      "BORUTA_FEATURES = ['GrLivArea', 'LotArea', 'Neighborhood', 'OverallQual', 'YearBuilt',\n",
      "       'YearRemodAdd', 'BsmtQual', 'BsmtFinSF1', 'BedroomAbvGr', '1stFlrSF',\n",
      "       'LowQualFinSF', 'KitchenAbvGr', 'KitchenQual', 'GarageFinish',\n",
      "       'GarageCars']\n",
      "\n",
      "from HousePrices_utils import combine_features\n",
      "\n",
      "train_comined = combine_features(train_X, BORUTA_FEATURES)"
     ],
     "language": "python",
     "metadata": {},
     "outputs": [],
     "prompt_number": 6
    },
    {
     "cell_type": "code",
     "collapsed": false,
     "input": [
      "l1_train_preds = pd.DataFrame(index=train_X.index)\n",
      "l1_submit_preds = pd.DataFrame(index=submit_X.index)\n",
      "\n",
      "submit_combined = combine_features(submit_X, BORUTA_FEATURES)\n",
      "\n",
      "clf = LinearRegression()\n",
      "\n",
      "transformation='log'\n",
      "train_model('SalePrice', clf, train_comined, np.exp(saleprices), submit_combined,\n",
      "    l1_train_preds, l1_submit_preds, 5, float('inf'),\n",
      "    thread_lock, random_state, transformation=transformation)"
     ],
     "language": "python",
     "metadata": {},
     "outputs": [],
     "prompt_number": 12
    },
    {
     "cell_type": "code",
     "collapsed": false,
     "input": [
      "l1_train_preds.to_csv(\"train_linreg_combined_boruta.csv\", index=True)\n",
      "l1_submit_preds.to_csv(\"submission_linreg_combined_boruta.csv\", index=True)"
     ],
     "language": "python",
     "metadata": {},
     "outputs": [],
     "prompt_number": 13
    }
   ],
   "metadata": {}
  }
 ]
}