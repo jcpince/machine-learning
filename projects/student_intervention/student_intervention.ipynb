{
 "metadata": {
  "kernelspec": {
   "display_name": "Python 2",
   "language": "python",
   "name": "python2"
  },
  "language_info": {
   "codemirror_mode": {
    "name": "ipython",
    "version": 2
   },
   "file_extension": ".py",
   "mimetype": "text/x-python",
   "name": "python",
   "nbconvert_exporter": "python",
   "pygments_lexer": "ipython2",
   "version": "2.7.11"
  },
  "name": "",
  "signature": "sha256:6c7ed068182b01300d7477aae5a15f74ace4bacc2d433816fe4b30daf939810f"
 },
 "nbformat": 3,
 "nbformat_minor": 0,
 "worksheets": [
  {
   "cells": [
    {
     "cell_type": "markdown",
     "metadata": {},
     "source": [
      "# Machine Learning Engineer Nanodegree\n",
      "## Supervised Learning\n",
      "## Project: Building a Student Intervention System"
     ]
    },
    {
     "cell_type": "markdown",
     "metadata": {},
     "source": [
      "Welcome to the second project of the Machine Learning Engineer Nanodegree! In this notebook, some template code has already been provided for you, and it will be your job to implement the additional functionality necessary to successfully complete this project. Sections that begin with **'Implementation'** in the header indicate that the following block of code will require additional functionality which you must provide. Instructions will be provided for each section and the specifics of the implementation are marked in the code block with a `'TODO'` statement. Please be sure to read the instructions carefully!\n",
      "\n",
      "In addition to implementing code, there will be questions that you must answer which relate to the project and your implementation. Each section where you will answer a question is preceded by a **'Question X'** header. Carefully read each question and provide thorough answers in the following text boxes that begin with **'Answer:'**. Your project submission will be evaluated based on your answers to each of the questions and the implementation you provide.  \n",
      "\n",
      ">**Note:** Code and Markdown cells can be executed using the **Shift + Enter** keyboard shortcut. In addition, Markdown cells can be edited by typically double-clicking the cell to enter edit mode."
     ]
    },
    {
     "cell_type": "markdown",
     "metadata": {},
     "source": [
      "### Question 1 - Classification vs. Regression\n",
      "*Your goal for this project is to identify students who might need early intervention before they fail to graduate. Which type of supervised learning problem is this, classification or regression? Why?*"
     ]
    },
    {
     "cell_type": "markdown",
     "metadata": {},
     "source": [
      "**Answer: **\n",
      "It is a classification problem since the output is the prediction of wether or not the student will graduate; so a binary output Graduated/Not Graduated (or graduated: True/False)."
     ]
    },
    {
     "cell_type": "markdown",
     "metadata": {},
     "source": [
      "## Exploring the Data\n",
      "Run the code cell below to load necessary Python libraries and load the student data. Note that the last column from this dataset, `'passed'`, will be our target label (whether the student graduated or didn't graduate). All other columns are features about each student."
     ]
    },
    {
     "cell_type": "code",
     "collapsed": false,
     "input": [
      "# Import libraries\n",
      "import numpy as np\n",
      "import pandas as pd\n",
      "from time import time\n",
      "from sklearn.metrics import f1_score\n",
      "\n",
      "# Read student data\n",
      "student_data = pd.read_csv(\"student-data.csv\")\n",
      "print \"Student data read successfully!\"\n",
      "print \"student_data.shape:\", student_data.shape\n",
      "print \"type(student_data):\", type(student_data)"
     ],
     "language": "python",
     "metadata": {},
     "outputs": [
      {
       "output_type": "stream",
       "stream": "stdout",
       "text": [
        "Student data read successfully!\n",
        "student_data.shape: (395, 31)\n",
        "type(student_data): <class 'pandas.core.frame.DataFrame'>\n"
       ]
      }
     ],
     "prompt_number": 114
    },
    {
     "cell_type": "markdown",
     "metadata": {},
     "source": [
      "### Implementation: Data Exploration\n",
      "Let's begin by investigating the dataset to determine how many students we have information on, and learn about the graduation rate among these students. In the code cell below, you will need to compute the following:\n",
      "- The total number of students, `n_students`.\n",
      "- The total number of features for each student, `n_features`.\n",
      "- The number of those students who passed, `n_passed`.\n",
      "- The number of those students who failed, `n_failed`.\n",
      "- The graduation rate of the class, `grad_rate`, in percent (%).\n"
     ]
    },
    {
     "cell_type": "code",
     "collapsed": false,
     "input": [
      "# TODO: Calculate number of students\n",
      "n_students = student_data.shape[0]\n",
      "\n",
      "# TODO: Calculate number of features -1 for the actual output\n",
      "n_features = student_data.shape[1] - 1\n",
      "\n",
      "# TODO: Calculate passing students\n",
      "n_passed = student_data[student_data[\"passed\"] == \"yes\"].shape[0]\n",
      "\n",
      "# TODO: Calculate failing students\n",
      "n_failed = student_data[student_data[\"passed\"] == \"no\"].shape[0]\n",
      "\n",
      "# TODO: Calculate graduation rate\n",
      "grad_rate = 100.0 * float(n_passed) / n_students\n",
      "\n",
      "# Print the results\n",
      "print \"Total number of students: {}\".format(n_students)\n",
      "print \"Number of features: {}\".format(n_features)\n",
      "print \"Number of students who passed: {}\".format(n_passed)\n",
      "print \"Number of students who failed: {}\".format(n_failed)\n",
      "print \"Graduation rate of the class: {:.2f}%\".format(grad_rate)"
     ],
     "language": "python",
     "metadata": {},
     "outputs": [
      {
       "output_type": "stream",
       "stream": "stdout",
       "text": [
        "Total number of students: 395\n",
        "Number of features: 30\n",
        "Number of students who passed: 265\n",
        "Number of students who failed: 130\n",
        "Graduation rate of the class: 67.09%\n"
       ]
      }
     ],
     "prompt_number": 116
    },
    {
     "cell_type": "markdown",
     "metadata": {},
     "source": [
      "## Preparing the Data\n",
      "In this section, we will prepare the data for modeling, training and testing.\n",
      "\n",
      "### Identify feature and target columns\n",
      "It is often the case that the data you obtain contains non-numeric features. This can be a problem, as most machine learning algorithms expect numeric data to perform computations with.\n",
      "\n",
      "Run the code cell below to separate the student data into feature and target columns to see if any features are non-numeric."
     ]
    },
    {
     "cell_type": "markdown",
     "metadata": {},
     "source": [
      "## Pro Tip: Data assessment:\n",
      "When dealing with the new data set it is good practice to assess its specific characteristics and implement the cross validation technique tailored on those very characteristics, in our case there are two main elements:\n",
      "\n",
      "   - Our dataset is small.\n",
      "   - Our dataset is slightly unbalanced. (There are more passing students than on passing students)\n",
      "\n",
      "We could take advantage of K-fold cross validation to exploit small data sets. Even though in this case it might not be necessary, should we have to deal with heavily unbalance datasets, we could address the unbalanced nature of our data set using Stratified K-Fold and Stratified Shuffle Split Cross validation, as stratification is preserving the preserving the percentage of samples for each class.\n",
      "- http://scikit-learn.org/stable/modules/generated/sklearn.model_selection.StratifiedShuffleSplit.html\n",
      "- http://scikit-learn.org/stable/modules/generated/sklearn.model_selection.StratifiedKFold.html- \n",
      "\n",
      "As for the initial train test split you can obtain stratification by simply using stratify = y_all:\n",
      "<pre>\n",
      ":::python\n",
      "from sklearn.cross_validation import train_test_split\n",
      "X_train, X_test, y_train, y_test = train_test_split(X_all, y_all, stratify = y_all, test_size=95, random_state=42)\n",
      ":::python\n",
      "<pre>"
     ]
    },
    {
     "cell_type": "code",
     "collapsed": false,
     "input": [
      "# Extract feature columns\n",
      "feature_cols = list(student_data.columns[:-1])\n",
      "\n",
      "# Extract target column 'passed'\n",
      "target_col = student_data.columns[-1] \n",
      "\n",
      "# Show the list of columns\n",
      "print \"Feature columns:\\n{}\".format(feature_cols)\n",
      "print \"\\nTarget column: {}\".format(target_col)\n",
      "\n",
      "# Separate the data into feature data and target data (X_all and y_all, respectively)\n",
      "X_all = student_data[feature_cols]\n",
      "y_all = student_data[target_col]\n",
      "\n",
      "# Show the feature information by printing the first five rows\n",
      "print \"\\nFeature values:\"\n",
      "print X_all.head()"
     ],
     "language": "python",
     "metadata": {},
     "outputs": [
      {
       "output_type": "stream",
       "stream": "stdout",
       "text": [
        "Feature columns:\n",
        "['school', 'sex', 'age', 'address', 'famsize', 'Pstatus', 'Medu', 'Fedu', 'Mjob', 'Fjob', 'reason', 'guardian', 'traveltime', 'studytime', 'failures', 'schoolsup', 'famsup', 'paid', 'activities', 'nursery', 'higher', 'internet', 'romantic', 'famrel', 'freetime', 'goout', 'Dalc', 'Walc', 'health', 'absences']\n",
        "\n",
        "Target column: passed\n",
        "\n",
        "Feature values:\n",
        "  school sex  age address famsize Pstatus  Medu  Fedu     Mjob      Fjob  \\\n",
        "0     GP   F   18       U     GT3       A     4     4  at_home   teacher   \n",
        "1     GP   F   17       U     GT3       T     1     1  at_home     other   \n",
        "2     GP   F   15       U     LE3       T     1     1  at_home     other   \n",
        "3     GP   F   15       U     GT3       T     4     2   health  services   \n",
        "4     GP   F   16       U     GT3       T     3     3    other     other   \n",
        "\n",
        "    ...    higher internet  romantic  famrel  freetime goout Dalc Walc health  \\\n",
        "0   ...       yes       no        no       4         3     4    1    1      3   \n",
        "1   ...       yes      yes        no       5         3     3    1    1      3   \n",
        "2   ...       yes      yes        no       4         3     2    2    3      3   \n",
        "3   ...       yes      yes       yes       3         2     2    1    1      5   \n",
        "4   ...       yes       no        no       4         3     2    1    2      5   \n",
        "\n",
        "  absences  \n",
        "0        6  \n",
        "1        4  \n",
        "2       10  \n",
        "3        2  \n",
        "4        4  \n",
        "\n",
        "[5 rows x 30 columns]\n"
       ]
      }
     ],
     "prompt_number": 15
    },
    {
     "cell_type": "markdown",
     "metadata": {},
     "source": [
      "### Preprocess Feature Columns\n",
      "\n",
      "As you can see, there are several non-numeric columns that need to be converted! Many of them are simply `yes`/`no`, e.g. `internet`. These can be reasonably converted into `1`/`0` (binary) values.\n",
      "\n",
      "Other columns, like `Mjob` and `Fjob`, have more than two values, and are known as _categorical variables_. The recommended way to handle such a column is to create as many columns as possible values (e.g. `Fjob_teacher`, `Fjob_other`, `Fjob_services`, etc.), and assign a `1` to one of them and `0` to all others.\n",
      "\n",
      "These generated columns are sometimes called _dummy variables_, and we will use the [`pandas.get_dummies()`](http://pandas.pydata.org/pandas-docs/stable/generated/pandas.get_dummies.html?highlight=get_dummies#pandas.get_dummies) function to perform this transformation. Run the code cell below to perform the preprocessing routine discussed in this section."
     ]
    },
    {
     "cell_type": "code",
     "collapsed": false,
     "input": [
      "def preprocess_features(X):\n",
      "    ''' Preprocesses the student data and converts non-numeric binary variables into\n",
      "        binary (0/1) variables. Converts categorical variables into dummy variables. '''\n",
      "    \n",
      "    # Initialize new output DataFrame\n",
      "    output = pd.DataFrame(index = X.index)\n",
      "\n",
      "    # Investigate each feature column for the data\n",
      "    for col, col_data in X.iteritems():\n",
      "        \n",
      "        # If data type is non-numeric, replace all yes/no values with 1/0\n",
      "        if col_data.dtype == object:\n",
      "            col_data = col_data.replace(['yes', 'no'], [1, 0])\n",
      "\n",
      "        # If data type is categorical, convert to dummy variables\n",
      "        if col_data.dtype == object:\n",
      "            # Example: 'school' => 'school_GP' and 'school_MS'\n",
      "            col_data = pd.get_dummies(col_data, prefix = col)  \n",
      "        \n",
      "        # Collect the revised columns\n",
      "        output = output.join(col_data)\n",
      "    \n",
      "    return output\n",
      "\n",
      "X_all = preprocess_features(X_all)\n",
      "print \"Processed feature columns ({} total features):\\n{}\".format(len(X_all.columns), list(X_all.columns))\n",
      "print \"\\nFeature values:\"\n",
      "print X_all.head()"
     ],
     "language": "python",
     "metadata": {},
     "outputs": [
      {
       "output_type": "stream",
       "stream": "stdout",
       "text": [
        "Processed feature columns (48 total features):\n",
        "['school_GP', 'school_MS', 'sex_F', 'sex_M', 'age', 'address_R', 'address_U', 'famsize_GT3', 'famsize_LE3', 'Pstatus_A', 'Pstatus_T', 'Medu', 'Fedu', 'Mjob_at_home', 'Mjob_health', 'Mjob_other', 'Mjob_services', 'Mjob_teacher', 'Fjob_at_home', 'Fjob_health', 'Fjob_other', 'Fjob_services', 'Fjob_teacher', 'reason_course', 'reason_home', 'reason_other', 'reason_reputation', 'guardian_father', 'guardian_mother', 'guardian_other', 'traveltime', 'studytime', 'failures', 'schoolsup', 'famsup', 'paid', 'activities', 'nursery', 'higher', 'internet', 'romantic', 'famrel', 'freetime', 'goout', 'Dalc', 'Walc', 'health', 'absences']\n",
        "\n",
        "Feature values:\n",
        "   school_GP  school_MS  sex_F  sex_M  age  address_R  address_U  famsize_GT3  \\\n",
        "0          1          0      1      0   18          0          1            1   \n",
        "1          1          0      1      0   17          0          1            1   \n",
        "2          1          0      1      0   15          0          1            0   \n",
        "3          1          0      1      0   15          0          1            1   \n",
        "4          1          0      1      0   16          0          1            1   \n",
        "\n",
        "   famsize_LE3  Pstatus_A    ...     higher  internet  romantic  famrel  \\\n",
        "0            0          1    ...          1         0         0       4   \n",
        "1            0          0    ...          1         1         0       5   \n",
        "2            1          0    ...          1         1         0       4   \n",
        "3            0          0    ...          1         1         1       3   \n",
        "4            0          0    ...          1         0         0       4   \n",
        "\n",
        "   freetime  goout  Dalc  Walc  health  absences  \n",
        "0         3      4     1     1       3         6  \n",
        "1         3      3     1     1       3         4  \n",
        "2         3      2     2     3       3        10  \n",
        "3         2      2     1     1       5         2  \n",
        "4         3      2     1     2       5         4  \n",
        "\n",
        "[5 rows x 48 columns]\n"
       ]
      }
     ],
     "prompt_number": 16
    },
    {
     "cell_type": "markdown",
     "metadata": {},
     "source": [
      "### Implementation: Training and Testing Data Split\n",
      "So far, we have converted all _categorical_ features into numeric values. For the next step, we split the data (both features and corresponding labels) into training and test sets. In the following code cell below, you will need to implement the following:\n",
      "- Randomly shuffle and split the data (`X_all`, `y_all`) into training and testing subsets.\n",
      "  - Use 300 training points (approximately 75%) and 95 testing points (approximately 25%).\n",
      "  - Set a `random_state` for the function(s) you use, if provided.\n",
      "  - Store the results in `X_train`, `X_test`, `y_train`, and `y_test`."
     ]
    },
    {
     "cell_type": "code",
     "collapsed": false,
     "input": [
      "# TODO: Import any additional functionality you may need here\n",
      "from sklearn.cross_validation import ShuffleSplit\n",
      "from sklearn.cross_validation import train_test_split\n",
      "random_state = 42\n",
      "\n",
      "# TODO: Set the number of training points\n",
      "num_train = 300\n",
      "\n",
      "# Set the number of testing points\n",
      "num_test = X_all.shape[0] - num_train\n",
      "\n",
      "# TODO: Shuffle and split the dataset into the number of training and testing points above\n",
      "X_train, X_test, y_train, y_test = train_test_split(X_all, y_all, test_size=num_test, random_state=random_state)\n",
      "\n",
      "# Show the results of the split\n",
      "print \"Training set has {} samples.\".format(X_train.shape[0])\n",
      "print \"Testing set has {} samples.\".format(X_test.shape[0])\n",
      "print \"Train passed rate: \", 100.0*float(y_train[y_train == \"yes\"].shape[0])/y_train.shape[0]\n",
      "print \"Test passed rate: \", 100.0*float(y_test[y_test == \"yes\"].shape[0])/y_test.shape[0]"
     ],
     "language": "python",
     "metadata": {},
     "outputs": [
      {
       "output_type": "stream",
       "stream": "stdout",
       "text": [
        "Training set has 300 samples.\n",
        "Testing set has 95 samples.\n",
        "Train passed rate:  68.3333333333\n",
        "Test passed rate:  63.1578947368\n"
       ]
      }
     ],
     "prompt_number": 19
    },
    {
     "cell_type": "markdown",
     "metadata": {},
     "source": [
      "## Training and Evaluating Models\n",
      "In this section, you will choose 3 supervised learning models that are appropriate for this problem and available in `scikit-learn`. You will first discuss the reasoning behind choosing these three models by considering what you know about the data and each model's strengths and weaknesses. You will then fit the model to varying sizes of training data (100 data points, 200 data points, and 300 data points) and measure the F<sub>1</sub> score. You will need to produce three tables (one for each model) that shows the training set size, training time, prediction time, F<sub>1</sub> score on the training set, and F<sub>1</sub> score on the testing set.\n",
      "\n",
      "**The following supervised learning models are currently available in** [`scikit-learn`](http://scikit-learn.org/stable/supervised_learning.html) **that you may choose from:**\n",
      "- Gaussian Naive Bayes (GaussianNB)\n",
      "- Decision Trees\n",
      "- Ensemble Methods (Bagging, AdaBoost, Random Forest, Gradient Boosting)\n",
      "- K-Nearest Neighbors (KNeighbors)\n",
      "- Stochastic Gradient Descent (SGDC)\n",
      "- Support Vector Machines (SVM)\n",
      "- Logistic Regression"
     ]
    },
    {
     "cell_type": "markdown",
     "metadata": {},
     "source": [
      "### Question 2 - Model Application\n",
      "*List three supervised learning models that are appropriate for this problem. For each model chosen*\n",
      "- Describe one real-world application in industry where the model can be applied. *(You may need to do a small bit of research for this \u2014 give references!)* \n",
      "- What are the strengths of the model; when does it perform well? \n",
      "- What are the weaknesses of the model; when does it perform poorly?\n",
      "- What makes this model a good candidate for the problem, given what you know about the data?"
     ]
    },
    {
     "cell_type": "markdown",
     "metadata": {},
     "source": [
      "### Pro Tip:\n",
      "\n",
      "When choosing which algorithm to use this **interactive map provides a good starting point**: http://scikit-learn.org/stable/tutorial/machine_learning_map/"
     ]
    },
    {
     "cell_type": "markdown",
     "metadata": {},
     "source": [
      "**Answer: **\n",
      "\n",
      "The  board of director wants computation cost effective model for some budget reason and want to increase the graduation rate from 67% to 95% by helping the students the more likely to fail.\n",
      "\n",
      "So, I'd say that having a good prediction score is good but their score on identifying the students who fail is also very important especially here since the number of students who graduated is twice as important as the number of students who failed so, a dummy predictor predicting always \"passed = yes\" will be have a score of 77% but will not help the detection (see here after for the f1_score of all yes predictions)...\n",
      "\n",
      "In order to get a non computation intensive algorithm, a simple algorithm should be preferred; the storage size might also be important in terms of costs.\n",
      "\n",
      "I have chosen the following 3 models:\n",
      " - **Gaussian Naive Bayes**:\n",
      "This model is simple, fast and should be the most cost efficient of the 3; it usually gives good results in practice even when the assumption of conditional independance of the features doesn't hold (here, our features should be independant though). It converges quickly on small datasets.\n",
      "On the down side, it is a bad estimator so we will not be able to evaluate the confidence of the predictions and it is sensible to unseen samples.\n",
      "\n",
      "This algorithm is used in the industry for document classification (https://web.stanford.edu/class/cs124/lec/naivebayes.pdf) or SPAM filtering (see https://en.wikipedia.org/wiki/Naive_Bayes_spam_filtering)\n",
      "\n",
      "I think this is a good candidate since it addresses the cost question; the prediction probability is not a must have here and we have added a 'other' category to some of the features preventing the unseen sample issue.\n",
      " - **Random Forests**:\n",
      "This model is very interesting since, as a part of the ensemble methods, it is very good in terms of generalization compared to the DT which is prone to overfitting. This model tends to decrease the variance which is important here since a dataset is quite small (slightly under 400 samples) and performs well when there are a lot of features. On the bad side, its bias tends to be higher than some other algoritms but the variance being lower usually compensate and provite a better model. And it is not efficient with huge datasets.\n",
      "\n",
      "The random forests technique is used in the medical field to classify deceases (see https://www.ncbi.nlm.nih.gov/pmc/articles/PMC4062420/ and http://mediatum.ub.tum.de/doc/1094727/document.pdf)\n",
      "\n",
      "I think is is a good candidate given that the number of features is important compared to the number of samples (48 features compared to 300 samples in the training set); The fact that there are not that many samples makes at least one of the ensemble methods worth testing since they share a certain robustness with respect to the overfitting.\n",
      " - **Logistic Regression**:\n",
      "Logistic regression returns a confidence score associated to the prediction. Overfitting can be addressed easily with regularization and it is not particularly sensitive to the dataset noise. The cons of this algorithm is that the computation is expensive with large feature sets, it requires large datasets to preform optimally and is sentible to the multicollinearity (linear dependancy between the features).\n",
      "\n",
      "The logistic regression is used in the medical field in the diagnosis assistance (see http://www.ajronline.org/doi/full/10.2214/AJR.07.3345) or in financial prediction systems (see https://papers.ssrn.com/sol3/papers.cfm?abstract_id=2171511) and many more...\n",
      "\n",
      "I think this model can be interesting because it can address the overfitting issue efficiently, it should perform well since the dataset is not huge (nor is the number of features) and finally, the confidence score might be interesting to fine tune the algorithm and favor the detection of students susceptible to fail."
     ]
    },
    {
     "cell_type": "markdown",
     "metadata": {},
     "source": [
      "### Setup\n",
      "Run the code cell below to initialize three helper functions which you can use for training and testing the three supervised learning models you've chosen above. The functions are as follows:\n",
      "- `train_classifier` - takes as input a classifier and training data and fits the classifier to the data.\n",
      "- `predict_labels` - takes as input a fit classifier, features, and a target labeling and makes predictions using the F<sub>1</sub> score.\n",
      "- `train_predict` - takes as input a classifier, and the training and testing data, and performs `train_clasifier` and `predict_labels`.\n",
      " - This function will report the F<sub>1</sub> score for both the training and testing data separately."
     ]
    },
    {
     "cell_type": "code",
     "collapsed": false,
     "input": [
      "def train_classifier(clf, X_train, y_train):\n",
      "    ''' Fits a classifier to the training data. '''\n",
      "    \n",
      "    # Start the clock, train the classifier, then stop the clock\n",
      "    start = time()\n",
      "    clf.fit(X_train, y_train)\n",
      "    end = time()\n",
      "    \n",
      "    # Print the results\n",
      "    print \"Trained model in {:.4f} seconds\".format(end - start)\n",
      "\n",
      "    \n",
      "def predict_labels(clf, features, target, do_print = False):\n",
      "    ''' Makes predictions using a fit classifier based on F1 score. '''\n",
      "    \n",
      "    # Start the clock, make predictions, then stop the clock\n",
      "    start = time()\n",
      "    y_pred = clf.predict(features)\n",
      "    end = time()\n",
      "    \n",
      "    # Print and return results\n",
      "    if do_print == True:\n",
      "        print \"Made predictions in {:.4f} seconds.\".format(end - start)\n",
      "    return f1_score(target.values, y_pred, pos_label='yes')\n",
      "\n",
      "\n",
      "def train_predict(clf, X_train, y_train, X_test, y_test):\n",
      "    ''' Train and predict using a classifer based on F1 score. '''\n",
      "    \n",
      "    # Indicate the classifier and the training set size\n",
      "    print \"Training a {} using a training set size of {}. . .\".format(clf.__class__.__name__, len(X_train))\n",
      "    \n",
      "    # Train the classifier\n",
      "    train_classifier(clf, X_train, y_train)\n",
      "    \n",
      "    # Print the results of prediction for both training and testing\n",
      "    print \"F1 score for training set: {:.4f}.\".format(predict_labels(clf, X_train, y_train))\n",
      "    print \"F1 score for test set: {:.4f}.\".format(predict_labels(clf, X_test, y_test, do_print=True))\n",
      "\n",
      "y_yes = y_test.copy()\n",
      "y_yes = y_yes.apply(lambda x : \"yes\")\n",
      "all_yes_score = f1_score(y_test.values, y_yes.values, pos_label='yes')\n",
      "print \"Score of dumb predictor returning all passed: \", all_yes_score"
     ],
     "language": "python",
     "metadata": {},
     "outputs": [
      {
       "output_type": "stream",
       "stream": "stdout",
       "text": [
        "Score of dumb predictor returning all passed:  0.774193548387\n"
       ]
      }
     ],
     "prompt_number": 59
    },
    {
     "cell_type": "markdown",
     "metadata": {},
     "source": [
      "### Implementation: Model Performance Metrics\n",
      "With the predefined functions above, you will now import the three supervised learning models of your choice and run the `train_predict` function for each one. Remember that you will need to train and predict on each classifier for three different training set sizes: 100, 200, and 300. Hence, you should expect to have 9 different outputs below \u2014 3 for each model using the varying training set sizes. In the following code cell, you will need to implement the following:\n",
      "- Import the three supervised learning models you've discussed in the previous section.\n",
      "- Initialize the three models and store them in `clf_A`, `clf_B`, and `clf_C`.\n",
      " - Use a `random_state` for each model you use, if provided.\n",
      " - **Note:** Use the default settings for each model \u2014 you will tune one specific model in a later section.\n",
      "- Create the different training set sizes to be used to train each model.\n",
      " - *Do not reshuffle and resplit the data! The new training points should be drawn from `X_train` and `y_train`.*\n",
      "- Fit each model with each training set size and make predictions on the test set (9 in total).  \n",
      "**Note:** Three tables are provided after the following code cell which can be used to store your results."
     ]
    },
    {
     "cell_type": "code",
     "collapsed": false,
     "input": [
      "# TODO: Import the three supervised learning models from sklearn\n",
      "from sklearn.naive_bayes import GaussianNB\n",
      "from sklearn.ensemble import RandomForestClassifier\n",
      "from sklearn.linear_model import LogisticRegression\n",
      "\n",
      "# TODO: Initialize the three models\n",
      "clf_A = GaussianNB()\n",
      "clf_B = RandomForestClassifier(random_state=random_state)\n",
      "clf_C = LogisticRegression(random_state=random_state)\n",
      "\n",
      "# TODO: Set up the training set sizes\n",
      "X_train_100 = X_train[0:100]\n",
      "y_train_100 = y_train[0:100]\n",
      "\n",
      "X_train_200 = X_train[0:200]\n",
      "y_train_200 = y_train[0:200]\n",
      "\n",
      "X_train_300 = X_train\n",
      "y_train_300 = y_train\n",
      "\n",
      "# TODO: Execute the 'train_predict' function for each classifier and each training set size\n",
      "for clf in [clf_A, clf_B, clf_C]:\n",
      "    for X_train, y_train in [[X_train_100, y_train_100], [X_train_200, y_train_200], [X_train_300, y_train_300]]:\n",
      "        train_predict(clf, X_train, y_train, X_test, y_test)"
     ],
     "language": "python",
     "metadata": {},
     "outputs": [
      {
       "output_type": "stream",
       "stream": "stdout",
       "text": [
        "Training a GaussianNB using a training set size of 100. . .\n",
        "Trained model in 0.0014 seconds\n",
        "F1 score for training set: 0.8467.\n",
        "Made predictions in 0.0006 seconds.\n",
        "F1 score for test set: 0.8029.\n",
        "Training a GaussianNB using a training set size of 200. . .\n",
        "Trained model in 0.0015 seconds\n",
        "F1 score for training set: 0.8406.\n",
        "Made predictions in 0.0006 seconds.\n",
        "F1 score for test set: 0.7244.\n",
        "Training a GaussianNB using a training set size of 300. . .\n",
        "Trained model in 0.0015 seconds\n",
        "F1 score for training set: 0.8038.\n",
        "Made predictions in 0.0006 seconds.\n",
        "F1 score for test set: 0.7634.\n",
        "Training a RandomForestClassifier using a training set size of 100. . .\n",
        "Trained model in 0.0382 seconds"
       ]
      },
      {
       "output_type": "stream",
       "stream": "stdout",
       "text": [
        "\n",
        "F1 score for training set: 0.9844.\n",
        "Made predictions in 0.0018 seconds.\n",
        "F1 score for test set: 0.7153.\n",
        "Training a RandomForestClassifier using a training set size of 200. . .\n",
        "Trained model in 0.0383 seconds\n",
        "F1 score for training set: 0.9964.\n",
        "Made predictions in 0.0018 seconds."
       ]
      },
      {
       "output_type": "stream",
       "stream": "stdout",
       "text": [
        "\n",
        "F1 score for test set: 0.7857.\n",
        "Training a RandomForestClassifier using a training set size of 300. . .\n",
        "Trained model in 0.0301 seconds\n",
        "F1 score for training set: 0.9951.\n",
        "Made predictions in 0.0012 seconds.\n",
        "F1 score for test set: 0.8092.\n",
        "Training a LogisticRegression using a training set size of 100. . .\n",
        "Trained model in 0.0012 seconds\n",
        "F1 score for training set: 0.8593.\n",
        "Made predictions in 0.0001 seconds.\n",
        "F1 score for test set: 0.7647.\n",
        "Training a LogisticRegression using a training set size of 200. . .\n",
        "Trained model in 0.0021 seconds\n",
        "F1 score for training set: 0.8562.\n",
        "Made predictions in 0.0002 seconds.\n",
        "F1 score for test set: 0.7914.\n",
        "Training a LogisticRegression using a training set size of 300. . .\n",
        "Trained model in 0.0055 seconds"
       ]
      },
      {
       "output_type": "stream",
       "stream": "stdout",
       "text": [
        "\n",
        "F1 score for training set: 0.8468.\n",
        "Made predictions in 0.0003 seconds.\n",
        "F1 score for test set: 0.8060.\n"
       ]
      }
     ],
     "prompt_number": 118
    },
    {
     "cell_type": "markdown",
     "metadata": {},
     "source": [
      "### Tabular Results\n",
      "Edit the cell below to see how a table can be designed in [Markdown](https://github.com/adam-p/markdown-here/wiki/Markdown-Cheatsheet#tables). You can record your results from above in the tables provided."
     ]
    },
    {
     "cell_type": "markdown",
     "metadata": {},
     "source": [
      "** Classifer 1 - GaussianNB ** \n",
      "\n",
      "| Training Set Size | Training Time | Prediction Time (test) | F1 Score (train) | F1 Score (test) |\n",
      "| :---------------: | :---------------------: | :--------------------: | :--------------: | :-------------: |\n",
      "| 100               |          1.4ms          |          0.3ms        |       0.8467     |      0.8029     |\n",
      "| 200               |          0.9ms          |          0.3ms        |       0.84       |      0.7244     |\n",
      "| 300               |          1.5ms          |          0.3ms        |       0.8038     |      0.7634     |\n",
      "\n",
      "** Classifer 2 - RandomForestClassifier ** \n",
      "\n",
      "| Training Set Size | Training Time | Prediction Time (test) | F1 Score (train) | F1 Score (test) |\n",
      "| :---------------: | :---------------------: | :--------------------: | :--------------: | :-------------: |\n",
      "| 100               |          211ms          |         7.8ms          |       0.9844     |      0.7153     |\n",
      "| 200               |          188ms          |         9.3ms          |       0.9964     |      0.7857     |\n",
      "| 300               |          192ms          |         9.7ms          |       0.9951     |      0.8092     |\n",
      "\n",
      "** Classifer 3 - LogisticRegression ** \n",
      "\n",
      "| Training Set Size | Training Time | Prediction Time (test) | F1 Score (train) | F1 Score (test) |\n",
      "| :---------------: | :---------------------: | :--------------------: | :--------------: | :-------------: |\n",
      "| 100               |          1.4ms          |          0.1ms         |      0.8593      |      0.7647     |\n",
      "| 200               |           2ms           |          0.3ms         |      0.8562      |      0.7914     |\n",
      "| 300               |           4.2ms         |          0.2ms         |      0.8468      |      0.8060     |"
     ]
    },
    {
     "cell_type": "markdown",
     "metadata": {},
     "source": [
      "## Choosing the Best Model\n",
      "In this final section, you will choose from the three supervised learning models the *best* model to use on the student data. You will then perform a grid search optimization for the model over the entire training set (`X_train` and `y_train`) by tuning at least one parameter to improve upon the untuned model's F<sub>1</sub> score. "
     ]
    },
    {
     "cell_type": "markdown",
     "metadata": {},
     "source": [
      "### Question 3 - Choosing the Best Model\n",
      "*Based on the experiments you performed earlier, in one to two paragraphs, explain to the board of supervisors what single model you chose as the best model. Which model is generally the most appropriate based on the available data, limited resources, cost, and performance?*"
     ]
    },
    {
     "cell_type": "code",
     "collapsed": false,
     "input": [
      "for clf in [clf_A, clf_B, clf_C]:\n",
      "    probs = clf.predict_proba(X_test)\n",
      "    preds = clf.predict(X_test)\n",
      "    count = 0\n",
      "    count_no = 0\n",
      "    count_right_no = 0\n",
      "    for idx, prob in enumerate(probs):\n",
      "        if y_test.iloc[idx] == 'no':\n",
      "            count_no += 1\n",
      "            if preds[idx] == y_test.iloc[idx]:\n",
      "                count_right_no += 1\n",
      "        if preds[idx] == y_test.iloc[idx]:\n",
      "            count += 1\n",
      "        #   print(\"%3s     OK: prob: %0.6f vs %0.6f\" % (y_test.iloc[idx], prob[0], prob[1]))\n",
      "        #else:\n",
      "        #   print(\"%3s  WRONG: prob: %0.6f vs %0.6f\" % (y_test.iloc[idx], prob[0], prob[1]))\n",
      "    print(\"%s got it right %d times over %d data => %0.3f%%\" % (\n",
      "        clf.__class__.__name__, count, y_test.shape[0], 100.0*count/y_test.shape[0]))\n",
      "    print(\"%s got the failing students right %d times over %d data => %0.3f%%\" % (\n",
      "        clf.__class__.__name__, count_right_no, count_no, 100.0*count_right_no/count_no))"
     ],
     "language": "python",
     "metadata": {},
     "outputs": [
      {
       "output_type": "stream",
       "stream": "stdout",
       "text": [
        "GaussianNB got it right 64 times over 95 data => 67.368%\n",
        "GaussianNB got the failing students right 14 times over 35 data => 40.000%\n",
        "RandomForestClassifier got it right 70 times over 95 data => 73.684%\n",
        "RandomForestClassifier got the failing students right 17 times over 35 data => 48.571%\n",
        "LogisticRegression got it right 69 times over 95 data => 72.632%\n",
        "LogisticRegression got the failing students right 15 times over 35 data => 42.857%\n"
       ]
      }
     ],
     "prompt_number": 119
    },
    {
     "cell_type": "markdown",
     "metadata": {},
     "source": [
      "**Answer: **\n",
      "\n",
      "We have three criterias to take into account here:\n",
      " 1. The time spent by the algorithm for training\n",
      " 2. The time spent by the algorithm for the prediction\n",
      " 3. The accuracy of the predictions\n",
      "\n",
      "The table clearly shows that:\n",
      "- The GaussianNB model is fast in terms of both learning and prediction but its best f1 score on the test set is 0.76 so, 0.5 below the 2 other algorithms.\n",
      "- The Random Forests model is really slow compared to the other two in terms of learning and prediction (200ms in learning versus 2 to 4ms for the other 2 models); its f1_score is the best of the 3 models by a very slight margin when compared to the last model.\n",
      "- The last model is the Logistic Regression shows a very good compromise running time/accuracy; It's running times for both training and prediction is really close to the fatest GaussianNB (in the order of 2ms) and its prediction time is even slightly better (roughly 0.2ms). Its accurasy is also very close to the best 0.806 (versus 0.809 for the RF model).\n",
      "\n",
      "Based on the measures, the algorithm satisfying best our criterias is the Logistic Regression model (close to best training time, best prediction time and equivalent to best prediction accuracy).\n",
      "\n",
      "This model has several advantages such as:\n",
      " - It returns a probability associated with the prediction\n",
      " - It is robust to data noise (wrong information used to feed the algorithm)\n",
      " - It is widely used in the whole industry\n",
      "\n",
      "Moreover, in our case of identifying the students requiring some assistance to make sure they will graduate, the probability associated with the prediction can help enlarging the set of students monitored by the school even if no steps are taken immediately in their direction."
     ]
    },
    {
     "cell_type": "markdown",
     "metadata": {},
     "source": [
      "### Question 4 - Model in Layman's Terms\n",
      "*In one to two paragraphs, explain to the board of directors in layman's terms how the final model chosen is supposed to work. Be sure that you are describing the major qualities of the model, such as how the model is trained and how the model makes a prediction. Avoid using advanced mathematical or technical jargon, such as describing equations or discussing the algorithm implementation.*"
     ]
    },
    {
     "cell_type": "markdown",
     "metadata": {},
     "source": [
      "**Answer: **\n",
      "\n",
      "The model chosen is the logistic Regression algorithm.\n",
      "\n",
      "The logistic regression is characterized by a set of weights associated to each of the input variables. Those inputs are the input variable like sex, age, parents profession, etc...\n",
      "\n",
      "The input features which are not numerical are transformed into numercial values; for example, the parents' job is a text variable whose value can be any in a list composed of (at_home, teacher, services... and other), this list is then transformed in as many input variables and get a 1 value when the parent's job correspond to the new input variable and 0 for the others input corresponding to this list.\n",
      "\n",
      "With all the variables now numerical, the model is trained or learned by multiplying each input variable by its associated weight and comparing the result to the actual value (exam passed or not); depending on the difference and the input variables, the weights are adjusted to better fit the actual value.\n",
      "\n",
      "The difference between the prediction and the actual value is used as a cost function. The objective of the training is to minimize this cost function; so the error between the algorithm's output and the actual result (exam passed or not).\n",
      "\n",
      "Once the training is done, we have a model than can be applied to new data simply by first formatting the data to 'all numerical' then by multiplying by the weights obtained during the training; this is our prediction!!"
     ]
    },
    {
     "cell_type": "markdown",
     "metadata": {},
     "source": [
      "### Implementation: Model Tuning\n",
      "Fine tune the chosen model. Use grid search (`GridSearchCV`) with at least one important parameter tuned with at least 3 different values. You will need to use the entire training set for this. In the code cell below, you will need to implement the following:\n",
      "- Import [`sklearn.grid_search.GridSearchCV`](http://scikit-learn.org/0.17/modules/generated/sklearn.grid_search.GridSearchCV.html) and [`sklearn.metrics.make_scorer`](http://scikit-learn.org/stable/modules/generated/sklearn.metrics.make_scorer.html).\n",
      "- Create a dictionary of parameters you wish to tune for the chosen model.\n",
      " - Example: `parameters = {'parameter' : [list of values]}`.\n",
      "- Initialize the classifier you've chosen and store it in `clf`.\n",
      "- Create the F<sub>1</sub> scoring function using `make_scorer` and store it in `f1_scorer`.\n",
      " - Set the `pos_label` parameter to the correct value!\n",
      "- Perform grid search on the classifier `clf` using `f1_scorer` as the scoring method, and store it in `grid_obj`.\n",
      "- Fit the grid search object to the training data (`X_train`, `y_train`), and store it in `grid_obj`."
     ]
    },
    {
     "cell_type": "code",
     "collapsed": false,
     "input": [
      "# TODO: Import 'GridSearchCV' and 'make_scorer'\n",
      "from sklearn.metrics import make_scorer\n",
      "from sklearn.grid_search import GridSearchCV\n",
      "\n",
      "# TODO: Create the parameters list you wish to tune\n",
      "parameters = {'C' : (0.1, 0.3, 1, 5, 10), 'fit_intercept' : [True, False], 'tol' : [1e-3, 1e-4, 1e-5],\n",
      "        'class_weight' : [None, 'balanced'], 'solver' : ['newton-cg', 'lbfgs', 'liblinear', 'sag']}\n",
      "\n",
      "# TODO: Initialize the classifier\n",
      "clf = LogisticRegression(penalty='l2', random_state=random_state)\n",
      "\n",
      "# TODO: Make an f1 scoring function using 'make_scorer' \n",
      "f1_scorer = make_scorer(f1_score, pos_label=\"yes\")\n",
      "\n",
      "cv_sets = ShuffleSplit(X_train.shape[0], n_iter = 10, test_size = 0.2, random_state = random_state)\n",
      "\n",
      "# TODO: Perform grid search on the classifier using the f1_scorer as the scoring method\n",
      "grid_obj = GridSearchCV(clf, param_grid=parameters, scoring=f1_scorer, cv=cv_sets)\n",
      "\n",
      "# TODO: Fit the grid search object to the training data and find the optimal parameters\n",
      "grid_obj = grid_obj.fit(X_train, y_train)\n",
      "\n",
      "# Get the estimator\n",
      "clf = grid_obj.best_estimator_\n",
      "clf_lr = LogisticRegression(C=1, penalty='l2', random_state=random_state).fit(X_train, y_train)\n",
      "\n",
      "# Report the final F1 score for training and testing after parameter tuning\n",
      "print \"Tuned model has a training F1 score of {:.4f}.\".format(predict_labels(clf, X_train, y_train))\n",
      "print \"Tuned model has a testing F1 score of {:.4f}.\".format(predict_labels(clf, X_test, y_test))\n",
      "print \"Tuned model has a testing F1 score of {:.4f}.\".format(predict_labels(clf_lr, X_test, y_test))"
     ],
     "language": "python",
     "metadata": {},
     "outputs": [
      {
       "output_type": "stream",
       "stream": "stdout",
       "text": [
        "Tuned model has a training F1 score of 0.8337.\n",
        "Tuned model has a testing F1 score of 0.7801.\n",
        "Tuned model has a testing F1 score of 0.8060.\n"
       ]
      }
     ],
     "prompt_number": 113
    },
    {
     "cell_type": "markdown",
     "metadata": {},
     "source": [
      "### Question 5 - Final F<sub>1</sub> Score\n",
      "*What is the final model's F<sub>1</sub> score for training and testing? How does that score compare to the untuned model?*"
     ]
    },
    {
     "cell_type": "markdown",
     "metadata": {},
     "source": [
      "**Answer: **\n",
      "\n",
      "The final score is 84.5% on the training set and 79.7% on the test set.\n",
      "\n",
      "It was 84.7% on the training set and 80.6% on the test set with the default parameters (C=1 and penalty=l2).\n",
      "\n",
      "The way I interpret this is that the GridSearch splits the dataset it is given into a cross validation set (see test_size parameter) which reduces the number of samples it processes for the training; this seems like double validation and decrease the overall performance with such small datasets."
     ]
    },
    {
     "cell_type": "markdown",
     "metadata": {},
     "source": [
      "## Pro Tip (Advanced):\n",
      "\n",
      "You could actually go well beyond grid search and implement \u2018pipelines\u2019 where the whole machine learning process becomes 'grid-searchable' and you can parameterize and search the whole process though cross validation.\n",
      "- http://scikit-learn.org/stable/modules/generated/sklearn.pipeline.Pipeline.html\n",
      "\n",
      "And yes you can try out several algorithms automatically as well too! Watch out though this is pretty advanced stuff, here is a great, informative, top notch tutorial from Zac Sewart!\n",
      "- http://zacstewart.com/2014/08/05/pipelines-of-featureunions-of-pipelines.html\n"
     ]
    },
    {
     "cell_type": "markdown",
     "metadata": {},
     "source": [
      "> **Note**: Once you have completed all of the code implementations and successfully answered each question above, you may finalize your work by exporting the iPython Notebook as an HTML document. You can do this by using the menu above and navigating to  \n",
      "**File -> Download as -> HTML (.html)**. Include the finished document along with this notebook as your submission."
     ]
    }
   ],
   "metadata": {}
  }
 ]
}